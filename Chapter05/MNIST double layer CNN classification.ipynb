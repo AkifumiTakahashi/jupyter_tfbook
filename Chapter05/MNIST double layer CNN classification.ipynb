{
 "cells": [
  {
   "cell_type": "markdown",
   "metadata": {},
   "source": [
    "**[CNN-01]** 必要なモジュールをインポートして、乱数のシードを設定します。"
   ]
  },
  {
   "cell_type": "code",
   "execution_count": 1,
   "metadata": {
    "collapsed": true
   },
   "outputs": [],
   "source": [
    "import tensorflow as tf\n",
    "import numpy as np\n",
    "import matplotlib.pyplot as plt\n",
    "from tensorflow.examples.tutorials.mnist import input_data\n",
    "\n",
    "np.random.seed(20160703)\n",
    "tf.set_random_seed(20160703)"
   ]
  },
  {
   "cell_type": "markdown",
   "metadata": {},
   "source": [
    "**[CNN-02]** MNISTのデータセットを用意します。"
   ]
  },
  {
   "cell_type": "code",
   "execution_count": 2,
   "metadata": {
    "collapsed": false
   },
   "outputs": [
    {
     "name": "stdout",
     "output_type": "stream",
     "text": [
      "Extracting /tmp/data/train-images-idx3-ubyte.gz\n",
      "Extracting /tmp/data/train-labels-idx1-ubyte.gz\n",
      "Extracting /tmp/data/t10k-images-idx3-ubyte.gz\n",
      "Extracting /tmp/data/t10k-labels-idx1-ubyte.gz\n"
     ]
    }
   ],
   "source": [
    "mnist = input_data.read_data_sets(\"/tmp/data/\", one_hot=True)"
   ]
  },
  {
   "cell_type": "markdown",
   "metadata": {},
   "source": [
    "**[CNN-03]** 1段目の畳み込みフィルターとプーリング層を定義します。"
   ]
  },
  {
   "cell_type": "code",
   "execution_count": 3,
   "metadata": {
    "collapsed": false
   },
   "outputs": [],
   "source": [
    "num_filters1 = 32\n",
    "\n",
    "x = tf.placeholder(tf.float32, [None, 784])\n",
    "x_image = tf.reshape(x, [-1,28,28,1])\n",
    "\n",
    "W_conv1 = tf.Variable(tf.truncated_normal([5,5,1,num_filters1],\n",
    "                                          stddev=0.1))\n",
    "h_conv1 = tf.nn.conv2d(x_image, W_conv1,\n",
    "                       strides=[1,1,1,1], padding='SAME')\n",
    "\n",
    "b_conv1 = tf.Variable(tf.constant(0.1, shape=[num_filters1]))\n",
    "h_conv1_cutoff = tf.nn.relu(h_conv1 + b_conv1)\n",
    "\n",
    "h_pool1 =tf.nn.max_pool(h_conv1_cutoff, ksize=[1,2,2,1],\n",
    "                        strides=[1,2,2,1], padding='SAME')"
   ]
  },
  {
   "cell_type": "markdown",
   "metadata": {},
   "source": [
    "**[CNN-04]** 2段目の畳み込みフィルターとプーリング層を定義します。"
   ]
  },
  {
   "cell_type": "code",
   "execution_count": 4,
   "metadata": {
    "collapsed": false
   },
   "outputs": [],
   "source": [
    "num_filters2 = 64\n",
    "\n",
    "W_conv2 = tf.Variable(\n",
    "            tf.truncated_normal([5,5,num_filters1,num_filters2],\n",
    "                                stddev=0.1))\n",
    "h_conv2 = tf.nn.conv2d(h_pool1, W_conv2,\n",
    "                       strides=[1,1,1,1], padding='SAME')\n",
    "\n",
    "b_conv2 = tf.Variable(tf.constant(0.1, shape=[num_filters2]))\n",
    "h_conv2_cutoff = tf.nn.relu(h_conv2 + b_conv2)\n",
    "\n",
    "h_pool2 =tf.nn.max_pool(h_conv2_cutoff, ksize=[1,2,2,1],\n",
    "                        strides=[1,2,2,1], padding='SAME')"
   ]
  },
  {
   "cell_type": "markdown",
   "metadata": {},
   "source": [
    "**[CNN-05]** 全結合層、ドロップアウト層、ソフトマックス関数を定義します。"
   ]
  },
  {
   "cell_type": "code",
   "execution_count": 5,
   "metadata": {
    "collapsed": false
   },
   "outputs": [],
   "source": [
    "h_pool2_flat = tf.reshape(h_pool2, [-1, 7*7*num_filters2])\n",
    "\n",
    "num_units1 = 7*7*num_filters2\n",
    "num_units2 = 1024\n",
    "\n",
    "w2 = tf.Variable(tf.truncated_normal([num_units1, num_units2]))\n",
    "b2 = tf.Variable(tf.constant(0.1, shape=[num_units2]))\n",
    "hidden2 = tf.nn.relu(tf.matmul(h_pool2_flat, w2) + b2)\n",
    "\n",
    "keep_prob = tf.placeholder(tf.float32)\n",
    "hidden2_drop = tf.nn.dropout(hidden2, keep_prob)\n",
    "\n",
    "w0 = tf.Variable(tf.zeros([num_units2, 10]))\n",
    "b0 = tf.Variable(tf.zeros([10]))\n",
    "p = tf.nn.softmax(tf.matmul(hidden2_drop, w0) + b0)"
   ]
  },
  {
   "cell_type": "markdown",
   "metadata": {},
   "source": [
    "**[CNN-06]** 誤差関数 loss、トレーニングアルゴリズム train_step、正解率 accuracy を定義します。"
   ]
  },
  {
   "cell_type": "code",
   "execution_count": 6,
   "metadata": {
    "collapsed": true
   },
   "outputs": [],
   "source": [
    "t = tf.placeholder(tf.float32, [None, 10])\n",
    "loss = -tf.reduce_sum(t * tf.log(p))\n",
    "train_step = tf.train.AdamOptimizer(0.0001).minimize(loss)\n",
    "correct_prediction = tf.equal(tf.argmax(p, 1), tf.argmax(t, 1))\n",
    "accuracy = tf.reduce_mean(tf.cast(correct_prediction, tf.float32))"
   ]
  },
  {
   "cell_type": "markdown",
   "metadata": {},
   "source": [
    "**[CNN-07]** セッションを用意して、Variable を初期化します。"
   ]
  },
  {
   "cell_type": "code",
   "execution_count": 7,
   "metadata": {
    "collapsed": true
   },
   "outputs": [],
   "source": [
    "sess = tf.InteractiveSession()\n",
    "sess.run(tf.initialize_all_variables())\n",
    "saver = tf.train.Saver()"
   ]
  },
  {
   "cell_type": "markdown",
   "metadata": {},
   "source": [
    "**[CNN-08]** パラメーターの最適化を25000回繰り返します。\n",
    "\n",
    "最終的に、テストセットに対して約99%の正解率が得られます。"
   ]
  },
  {
   "cell_type": "code",
   "execution_count": 8,
   "metadata": {
    "collapsed": false
   },
   "outputs": [
    {
     "name": "stdout",
     "output_type": "stream",
     "text": [
      "Step: 500, Loss: 1679.738281, Accuracy: 0.949800\n",
      "Step: 1000, Loss: 1056.643066, Accuracy: 0.968600\n",
      "Step: 1500, Loss: 836.698303, Accuracy: 0.974500\n",
      "Step: 2000, Loss: 753.148926, Accuracy: 0.974300\n",
      "Step: 2500, Loss: 605.285156, Accuracy: 0.980900\n",
      "Step: 3000, Loss: 584.634216, Accuracy: 0.980800\n",
      "Step: 3500, Loss: 588.606079, Accuracy: 0.980000\n",
      "Step: 4000, Loss: 493.769531, Accuracy: 0.984200\n",
      "Step: 4500, Loss: 476.820618, Accuracy: 0.983600\n",
      "Step: 5000, Loss: 437.336884, Accuracy: 0.984100\n",
      "Step: 5500, Loss: 409.274231, Accuracy: 0.985700\n",
      "Step: 6000, Loss: 399.363037, Accuracy: 0.987100\n",
      "Step: 6500, Loss: 384.203064, Accuracy: 0.986900\n",
      "Step: 7000, Loss: 390.318451, Accuracy: 0.985500\n",
      "Step: 7500, Loss: 336.461456, Accuracy: 0.988300\n",
      "Step: 8000, Loss: 329.810852, Accuracy: 0.988200\n",
      "Step: 8500, Loss: 347.900208, Accuracy: 0.987700\n",
      "Step: 9000, Loss: 363.413147, Accuracy: 0.986800\n",
      "Step: 9500, Loss: 359.362152, Accuracy: 0.987700\n",
      "Step: 10000, Loss: 341.048218, Accuracy: 0.988500\n",
      "Step: 10500, Loss: 322.036987, Accuracy: 0.988600\n",
      "Step: 11000, Loss: 316.260254, Accuracy: 0.990300\n",
      "Step: 11500, Loss: 329.658295, Accuracy: 0.989300\n",
      "Step: 12000, Loss: 340.060028, Accuracy: 0.988100\n",
      "Step: 12500, Loss: 295.146759, Accuracy: 0.991400\n",
      "Step: 13000, Loss: 320.217529, Accuracy: 0.988700\n",
      "Step: 13500, Loss: 307.638000, Accuracy: 0.989700\n",
      "Step: 14000, Loss: 313.324249, Accuracy: 0.989700\n",
      "Step: 14500, Loss: 309.398468, Accuracy: 0.989300\n",
      "Step: 15000, Loss: 288.384888, Accuracy: 0.990200\n",
      "Step: 15500, Loss: 316.869904, Accuracy: 0.989300\n",
      "Step: 16000, Loss: 312.058136, Accuracy: 0.989200\n",
      "Step: 16500, Loss: 290.274261, Accuracy: 0.990400\n",
      "Step: 17000, Loss: 309.263580, Accuracy: 0.989800\n",
      "Step: 17500, Loss: 278.149597, Accuracy: 0.990300\n",
      "Step: 18000, Loss: 301.857025, Accuracy: 0.989700\n",
      "Step: 18500, Loss: 296.435120, Accuracy: 0.990600\n",
      "Step: 19000, Loss: 287.125671, Accuracy: 0.990600\n",
      "Step: 19500, Loss: 282.837982, Accuracy: 0.990700\n",
      "Step: 20000, Loss: 301.777405, Accuracy: 0.989900\n",
      "Step: 20500, Loss: 279.155212, Accuracy: 0.990800\n",
      "Step: 21000, Loss: 286.004730, Accuracy: 0.990600\n",
      "Step: 21500, Loss: 269.566711, Accuracy: 0.991400\n",
      "Step: 22000, Loss: 321.815552, Accuracy: 0.990200\n",
      "Step: 22500, Loss: 269.130249, Accuracy: 0.991200\n",
      "Step: 23000, Loss: 291.589447, Accuracy: 0.990700\n",
      "Step: 23500, Loss: 274.637054, Accuracy: 0.990700\n",
      "Step: 24000, Loss: 300.415375, Accuracy: 0.990400\n",
      "Step: 24500, Loss: 329.903168, Accuracy: 0.990100\n",
      "Step: 25000, Loss: 279.469482, Accuracy: 0.991300\n"
     ]
    }
   ],
   "source": [
    "i = 0\n",
    "for _ in range(25000):\n",
    "    i += 1\n",
    "    batch_xs, batch_ts = mnist.train.next_batch(50)\n",
    "    sess.run(train_step,\n",
    "             feed_dict={x:batch_xs, t:batch_ts, keep_prob:0.5})\n",
    "    if i % 500 == 0:\n",
    "        loss_val, acc_val = sess.run([loss, accuracy],\n",
    "            feed_dict={x:mnist.test.images, t:mnist.test.labels,\n",
    "                       keep_prob:1.0})\n",
    "        print ('Step: %d, Loss: %f, Accuracy: %f'\n",
    "               % (i, loss_val, acc_val))\n",
    "        saver.save(sess, 'cnn_session', global_step=i)"
   ]
  },
  {
   "cell_type": "markdown",
   "metadata": {},
   "source": [
    "**[CNN-09]** セッション情報を保存したファイルが生成されていることを確認します。"
   ]
  },
  {
   "cell_type": "code",
   "execution_count": 9,
   "metadata": {
    "collapsed": false
   },
   "outputs": [
    {
     "name": "stdout",
     "output_type": "stream",
     "text": [
      "cnn_session-23000\tcnn_session-24000\tcnn_session-25000\r\n",
      "cnn_session-23000.meta\tcnn_session-24000.meta\tcnn_session-25000.meta\r\n",
      "cnn_session-23500\tcnn_session-24500\r\n",
      "cnn_session-23500.meta\tcnn_session-24500.meta\r\n"
     ]
    }
   ],
   "source": [
    "!ls cnn_session*"
   ]
  }
 ],
 "metadata": {
  "kernelspec": {
   "display_name": "Python 2",
   "language": "python",
   "name": "python2"
  },
  "language_info": {
   "codemirror_mode": {
    "name": "ipython",
    "version": 2
   },
   "file_extension": ".py",
   "mimetype": "text/x-python",
   "name": "python",
   "nbconvert_exporter": "python",
   "pygments_lexer": "ipython2",
   "version": "2.7.5"
  }
 },
 "nbformat": 4,
 "nbformat_minor": 0
}
