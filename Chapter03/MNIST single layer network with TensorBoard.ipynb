{
 "cells": [
  {
   "cell_type": "markdown",
   "metadata": {},
   "source": [
    "**[MST-1]** モジュールをインポートして、乱数のシードを設定します。"
   ]
  },
  {
   "cell_type": "code",
   "execution_count": 1,
   "metadata": {
    "collapsed": true
   },
   "outputs": [],
   "source": [
    "import tensorflow as tf\n",
    "import numpy as np\n",
    "import matplotlib.pyplot as plt\n",
    "from tensorflow.examples.tutorials.mnist import input_data\n",
    "\n",
    "np.random.seed(20160612)\n",
    "tf.set_random_seed(20160612)"
   ]
  },
  {
   "cell_type": "markdown",
   "metadata": {},
   "source": [
    "**[MST-2]** MNISTのデータセットを用意します。"
   ]
  },
  {
   "cell_type": "code",
   "execution_count": 2,
   "metadata": {
    "collapsed": false
   },
   "outputs": [
    {
     "name": "stdout",
     "output_type": "stream",
     "text": [
      "Extracting /tmp/data/train-images-idx3-ubyte.gz\n",
      "Extracting /tmp/data/train-labels-idx1-ubyte.gz\n",
      "Extracting /tmp/data/t10k-images-idx3-ubyte.gz\n",
      "Extracting /tmp/data/t10k-labels-idx1-ubyte.gz\n"
     ]
    }
   ],
   "source": [
    "mnist = input_data.read_data_sets(\"/tmp/data/\", one_hot=True)"
   ]
  },
  {
   "cell_type": "markdown",
   "metadata": {},
   "source": [
    "**[MST-3]** 単層ニューラルネットワークを表現するクラスを定義します。"
   ]
  },
  {
   "cell_type": "code",
   "execution_count": 3,
   "metadata": {
    "collapsed": false
   },
   "outputs": [],
   "source": [
    "class SingleLayerNetwork:\n",
    "    def __init__(self, num_units):\n",
    "        with tf.Graph().as_default():\n",
    "            self.prepare_model(num_units)\n",
    "            self.prepare_session()\n",
    "\n",
    "    def prepare_model(self, num_units):\n",
    "        with tf.name_scope('input'):\n",
    "            x = tf.placeholder(tf.float32, [None, 784], name='input')\n",
    "        \n",
    "        with tf.name_scope('hidden'):\n",
    "            b1 = tf.Variable(tf.zeros([1, num_units]), name='biases')\n",
    "            w1 = tf.Variable(tf.truncated_normal([784, num_units]),\n",
    "                             name='weights')        \n",
    "            hidden1 = tf.nn.relu(tf.matmul(x, w1) + b1, name='hidden1')\n",
    "        \n",
    "        with tf.name_scope('output'):\n",
    "            w0 = tf.Variable(tf.zeros([num_units, 10]), name='weights')\n",
    "            b0 = tf.Variable(tf.zeros([10]), name='biases')\n",
    "            p = tf.nn.softmax(tf.matmul(hidden1, w0) + b0, name='softmax')\n",
    "\n",
    "        with tf.name_scope('optimizer'):\n",
    "            t = tf.placeholder(tf.float32, [None, 10], name='labels')\n",
    "            loss = -tf.reduce_sum(t * tf.log(p), name='loss')\n",
    "            train_step = tf.train.AdamOptimizer().minimize(loss)\n",
    "\n",
    "        with tf.name_scope('evaluator'):\n",
    "            correct_prediction = tf.equal(tf.argmax(p, 1), tf.argmax(t, 1))\n",
    "            accuracy = tf.reduce_mean(tf.cast(correct_prediction,\n",
    "                                              tf.float32), name='accuracy')\n",
    "\n",
    "        tf.scalar_summary(\"loss\", loss)\n",
    "        tf.scalar_summary(\"accuracy\", accuracy)\n",
    "        tf.histogram_summary(\"weights_hidden\", w1)\n",
    "        tf.histogram_summary(\"biases_hidden\", b1)\n",
    "        tf.histogram_summary(\"weights_output\", w0)\n",
    "        tf.histogram_summary(\"biases_output\", b0)\n",
    "                \n",
    "        self.x, self.t, self.p = x, t, p\n",
    "        self.train_step = train_step\n",
    "        self.loss = loss\n",
    "        self.accuracy = accuracy\n",
    "            \n",
    "    def prepare_session(self):\n",
    "        sess = tf.InteractiveSession()\n",
    "        sess.run(tf.initialize_all_variables())\n",
    "        summary = tf.merge_all_summaries()\n",
    "        writer = tf.train.SummaryWriter(\"/tmp/mnist_sl_logs\", sess.graph)\n",
    "        \n",
    "        self.sess = sess\n",
    "        self.summary = summary\n",
    "        self.writer = writer"
   ]
  },
  {
   "cell_type": "markdown",
   "metadata": {},
   "source": [
    "**[MST-4]** TensorBoard用のデータ出力ディレクトリーを削除して初期化しておきます。"
   ]
  },
  {
   "cell_type": "code",
   "execution_count": 4,
   "metadata": {
    "collapsed": true
   },
   "outputs": [],
   "source": [
    "!rm -rf /tmp/mnist_sl_logs"
   ]
  },
  {
   "cell_type": "markdown",
   "metadata": {},
   "source": [
    "**[MST-5]** パラメーターの最適化を2000回繰り返します。テストセットに対して、約97%の正解率が得られます。"
   ]
  },
  {
   "cell_type": "code",
   "execution_count": 5,
   "metadata": {
    "collapsed": false
   },
   "outputs": [
    {
     "name": "stdout",
     "output_type": "stream",
     "text": [
      "Step: 100, Loss: 3026.103271, Accuracy: 0.905900\n",
      "Step: 200, Loss: 2202.535645, Accuracy: 0.937400\n",
      "Step: 300, Loss: 1832.364990, Accuracy: 0.946200\n",
      "Step: 400, Loss: 1802.891113, Accuracy: 0.945500\n",
      "Step: 500, Loss: 1736.678711, Accuracy: 0.944500\n",
      "Step: 600, Loss: 1341.027100, Accuracy: 0.958200\n",
      "Step: 700, Loss: 1278.270752, Accuracy: 0.963300\n",
      "Step: 800, Loss: 1214.674438, Accuracy: 0.963700\n",
      "Step: 900, Loss: 1229.161133, Accuracy: 0.960900\n",
      "Step: 1000, Loss: 1364.143066, Accuracy: 0.959800\n",
      "Step: 1100, Loss: 1069.029053, Accuracy: 0.968100\n",
      "Step: 1200, Loss: 1054.308594, Accuracy: 0.968700\n",
      "Step: 1300, Loss: 1213.200073, Accuracy: 0.961700\n",
      "Step: 1400, Loss: 1088.722534, Accuracy: 0.967000\n",
      "Step: 1500, Loss: 1061.952515, Accuracy: 0.967600\n",
      "Step: 1600, Loss: 1082.667114, Accuracy: 0.969100\n",
      "Step: 1700, Loss: 960.307678, Accuracy: 0.971100\n",
      "Step: 1800, Loss: 979.003052, Accuracy: 0.970700\n",
      "Step: 1900, Loss: 1010.784363, Accuracy: 0.970500\n",
      "Step: 2000, Loss: 941.405518, Accuracy: 0.971800\n"
     ]
    }
   ],
   "source": [
    "nn = SingleLayerNetwork(1024)\n",
    "\n",
    "i = 0\n",
    "for _ in range(2000):\n",
    "    i += 1\n",
    "    batch_xs, batch_ts = mnist.train.next_batch(100)\n",
    "    nn.sess.run(nn.train_step, feed_dict={nn.x: batch_xs, nn.t: batch_ts})\n",
    "    if i % 100 == 0:\n",
    "        summary, loss_val, acc_val = nn.sess.run([nn.summary, nn.loss, nn.accuracy],\n",
    "            feed_dict={nn.x:mnist.test.images, nn.t: mnist.test.labels})\n",
    "        print ('Step: %d, Loss: %f, Accuracy: %f'\n",
    "               % (i, loss_val, acc_val))\n",
    "        nn.writer.add_summary(summary, i)"
   ]
  }
 ],
 "metadata": {
  "kernelspec": {
   "display_name": "Python 2",
   "language": "python",
   "name": "python2"
  },
  "language_info": {
   "codemirror_mode": {
    "name": "ipython",
    "version": 2
   },
   "file_extension": ".py",
   "mimetype": "text/x-python",
   "name": "python",
   "nbconvert_exporter": "python",
   "pygments_lexer": "ipython2",
   "version": "2.7.5"
  }
 },
 "nbformat": 4,
 "nbformat_minor": 0
}
