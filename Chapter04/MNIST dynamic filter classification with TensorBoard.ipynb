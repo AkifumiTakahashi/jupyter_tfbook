{
 "cells": [
  {
   "cell_type": "markdown",
   "metadata": {},
   "source": [
    "**[MDT-01]** 必要なモジュールをインポートして、乱数のシードを設定します。"
   ]
  },
  {
   "cell_type": "code",
   "execution_count": 1,
   "metadata": {
    "collapsed": true
   },
   "outputs": [],
   "source": [
    "import tensorflow as tf\n",
    "import numpy as np\n",
    "import matplotlib.pyplot as plt\n",
    "from tensorflow.examples.tutorials.mnist import input_data\n",
    "\n",
    "np.random.seed(20160703)\n",
    "tf.set_random_seed(20160703)"
   ]
  },
  {
   "cell_type": "markdown",
   "metadata": {},
   "source": [
    "**[MDT-02]** MNISTのデータセットを用意します。"
   ]
  },
  {
   "cell_type": "code",
   "execution_count": 2,
   "metadata": {
    "collapsed": false
   },
   "outputs": [
    {
     "name": "stdout",
     "output_type": "stream",
     "text": [
      "Extracting /tmp/data/train-images-idx3-ubyte.gz\n",
      "Extracting /tmp/data/train-labels-idx1-ubyte.gz\n",
      "Extracting /tmp/data/t10k-images-idx3-ubyte.gz\n",
      "Extracting /tmp/data/t10k-labels-idx1-ubyte.gz\n"
     ]
    }
   ],
   "source": [
    "mnist = input_data.read_data_sets(\"/tmp/data/\", one_hot=True)"
   ]
  },
  {
   "cell_type": "markdown",
   "metadata": {},
   "source": [
    "**[MDT-03]** 畳込みフィルターが1層のCNNを表現するクラスを定義します。"
   ]
  },
  {
   "cell_type": "code",
   "execution_count": 3,
   "metadata": {
    "collapsed": false
   },
   "outputs": [],
   "source": [
    "class SingleCNN:\n",
    "    def __init__(self, num_filters, num_units):\n",
    "        with tf.Graph().as_default():\n",
    "            self.prepare_model(num_filters, num_units)\n",
    "            self.prepare_session()\n",
    "\n",
    "    def prepare_model(self, num_filters, num_units):\n",
    "        num_units1 = 14*14*num_filters\n",
    "        num_units2 = num_units\n",
    "        \n",
    "        with tf.name_scope('input'):\n",
    "            x = tf.placeholder(tf.float32, [None, 784], name='input')\n",
    "            x_image = tf.reshape(x, [-1,28,28,1])\n",
    "\n",
    "        with tf.name_scope('convolution'):\n",
    "            W_conv = tf.Variable(\n",
    "                tf.truncated_normal([5,5,1,num_filters], stddev=0.1),\n",
    "                name='conv-filter')\n",
    "            h_conv = tf.nn.conv2d(\n",
    "                x_image, W_conv, strides=[1,1,1,1], padding='SAME',\n",
    "                name='filter-output')\n",
    "\n",
    "        with tf.name_scope('pooling'):            \n",
    "            h_pool =tf.nn.max_pool(h_conv, ksize=[1,2,2,1],\n",
    "                                   strides=[1,2,2,1], padding='SAME',\n",
    "                                   name='max-pool')\n",
    "            h_pool_flat = tf.reshape(h_pool, [-1, 14*14*num_filters],\n",
    "                                     name='pool-output')\n",
    "\n",
    "        with tf.name_scope('fully-connected'):\n",
    "            w2 = tf.Variable(tf.truncated_normal([num_units1, num_units2]))\n",
    "            b2 = tf.Variable(tf.zeros([1, num_units2]))\n",
    "            hidden2 = tf.nn.relu(tf.matmul(h_pool_flat, w2) + b2,\n",
    "                                 name='fc-output')\n",
    "\n",
    "        with tf.name_scope('softmax'):\n",
    "            w0 = tf.Variable(tf.zeros([num_units2, 10]))\n",
    "            b0 = tf.Variable(tf.zeros([10]))\n",
    "            p = tf.nn.softmax(tf.matmul(hidden2, w0) + b0,\n",
    "                              name='softmax-output')\n",
    "            \n",
    "        with tf.name_scope('optimizer'):\n",
    "            t = tf.placeholder(tf.float32, [None, 10], name='labels')\n",
    "            loss = -tf.reduce_sum(t * tf.log(p), name='loss')\n",
    "            train_step = tf.train.AdamOptimizer(0.0005).minimize(loss)\n",
    "            \n",
    "        with tf.name_scope('evaluator'):\n",
    "            correct_prediction = tf.equal(tf.argmax(p, 1), tf.argmax(t, 1))\n",
    "            accuracy = tf.reduce_mean(tf.cast(correct_prediction,\n",
    "                                              tf.float32), name='accuracy')\n",
    "            \n",
    "        tf.scalar_summary(\"loss\", loss)\n",
    "        tf.scalar_summary(\"accuracy\", accuracy)\n",
    "        tf.histogram_summary(\"convolution_filters\", W_conv)\n",
    "        \n",
    "        self.x, self.t, self.p = x, t, p\n",
    "        self.train_step = train_step\n",
    "        self.loss = loss\n",
    "        self.accuracy = accuracy\n",
    "        \n",
    "    def prepare_session(self):\n",
    "        sess = tf.InteractiveSession()\n",
    "        sess.run(tf.initialize_all_variables())\n",
    "        summary = tf.merge_all_summaries()\n",
    "        writer = tf.train.SummaryWriter(\"/tmp/mnist_df_logs\", sess.graph)\n",
    "        \n",
    "        self.sess = sess\n",
    "        self.summary = summary\n",
    "        self.writer = writer"
   ]
  },
  {
   "cell_type": "markdown",
   "metadata": {},
   "source": [
    "**[MDT-04]** TensorBoard用のデータ出力ディレクトリーを削除して初期化しておきます。"
   ]
  },
  {
   "cell_type": "code",
   "execution_count": 4,
   "metadata": {
    "collapsed": true
   },
   "outputs": [],
   "source": [
    "!rm -rf /tmp/mnist_df_logs"
   ]
  },
  {
   "cell_type": "markdown",
   "metadata": {},
   "source": [
    "**[MDT-05]** パラメーターの最適化を4000回繰り返します。テストセットに対して約98%の正解率が得られます。"
   ]
  },
  {
   "cell_type": "code",
   "execution_count": 5,
   "metadata": {
    "collapsed": false
   },
   "outputs": [
    {
     "name": "stdout",
     "output_type": "stream",
     "text": [
      "Step: 50, Loss: 3484.648682, Accuracy: 0.896300\n",
      "Step: 100, Loss: 2475.874512, Accuracy: 0.925700\n",
      "Step: 150, Loss: 1941.478516, Accuracy: 0.943000\n",
      "Step: 200, Loss: 1841.656128, Accuracy: 0.947100\n",
      "Step: 250, Loss: 1594.411011, Accuracy: 0.951900\n",
      "Step: 300, Loss: 1438.315063, Accuracy: 0.958600\n",
      "Step: 350, Loss: 1486.281128, Accuracy: 0.956200\n",
      "Step: 400, Loss: 1455.018066, Accuracy: 0.954900\n",
      "Step: 450, Loss: 1187.164917, Accuracy: 0.962300\n",
      "Step: 500, Loss: 1212.654785, Accuracy: 0.963100\n",
      "Step: 550, Loss: 1460.313843, Accuracy: 0.952300\n",
      "Step: 600, Loss: 1021.726562, Accuracy: 0.968600\n",
      "Step: 650, Loss: 913.841248, Accuracy: 0.970600\n",
      "Step: 700, Loss: 934.267151, Accuracy: 0.972200\n",
      "Step: 750, Loss: 855.847656, Accuracy: 0.972300\n",
      "Step: 800, Loss: 974.277405, Accuracy: 0.968500\n",
      "Step: 850, Loss: 848.085205, Accuracy: 0.973300\n",
      "Step: 900, Loss: 880.748718, Accuracy: 0.971400\n",
      "Step: 950, Loss: 847.681580, Accuracy: 0.973300\n",
      "Step: 1000, Loss: 799.227539, Accuracy: 0.973700\n",
      "Step: 1050, Loss: 833.865906, Accuracy: 0.972000\n",
      "Step: 1100, Loss: 954.080505, Accuracy: 0.970100\n",
      "Step: 1150, Loss: 781.710083, Accuracy: 0.973700\n",
      "Step: 1200, Loss: 707.260864, Accuracy: 0.976600\n",
      "Step: 1250, Loss: 719.944031, Accuracy: 0.979100\n",
      "Step: 1300, Loss: 748.337280, Accuracy: 0.976100\n",
      "Step: 1350, Loss: 746.920532, Accuracy: 0.976800\n",
      "Step: 1400, Loss: 659.647949, Accuracy: 0.978200\n",
      "Step: 1450, Loss: 635.997864, Accuracy: 0.981000\n",
      "Step: 1500, Loss: 710.306274, Accuracy: 0.977100\n",
      "Step: 1550, Loss: 746.800415, Accuracy: 0.976200\n",
      "Step: 1600, Loss: 858.598389, Accuracy: 0.972100\n",
      "Step: 1650, Loss: 763.276245, Accuracy: 0.977000\n",
      "Step: 1700, Loss: 656.988281, Accuracy: 0.979200\n",
      "Step: 1750, Loss: 658.995789, Accuracy: 0.980000\n",
      "Step: 1800, Loss: 631.756470, Accuracy: 0.980000\n",
      "Step: 1850, Loss: 728.691956, Accuracy: 0.978300\n",
      "Step: 1900, Loss: 733.180054, Accuracy: 0.976400\n",
      "Step: 1950, Loss: 720.049316, Accuracy: 0.977300\n",
      "Step: 2000, Loss: 633.714111, Accuracy: 0.979800\n",
      "Step: 2050, Loss: 637.271851, Accuracy: 0.980100\n",
      "Step: 2100, Loss: 662.149292, Accuracy: 0.978200\n",
      "Step: 2150, Loss: 665.136658, Accuracy: 0.978900\n",
      "Step: 2200, Loss: 709.971069, Accuracy: 0.977600\n",
      "Step: 2250, Loss: 598.316528, Accuracy: 0.980800\n",
      "Step: 2300, Loss: 630.605530, Accuracy: 0.979600\n",
      "Step: 2350, Loss: 599.146973, Accuracy: 0.981300\n",
      "Step: 2400, Loss: 592.872803, Accuracy: 0.981500\n",
      "Step: 2450, Loss: 636.199585, Accuracy: 0.982400\n",
      "Step: 2500, Loss: 644.723511, Accuracy: 0.980000\n",
      "Step: 2550, Loss: 590.581482, Accuracy: 0.980900\n",
      "Step: 2600, Loss: 690.728821, Accuracy: 0.980100\n",
      "Step: 2650, Loss: 627.080811, Accuracy: 0.980200\n",
      "Step: 2700, Loss: 660.420166, Accuracy: 0.978900\n",
      "Step: 2750, Loss: 614.998474, Accuracy: 0.981300\n",
      "Step: 2800, Loss: 592.844788, Accuracy: 0.981600\n",
      "Step: 2850, Loss: 631.268677, Accuracy: 0.980300\n",
      "Step: 2900, Loss: 573.163330, Accuracy: 0.982600\n",
      "Step: 2950, Loss: 663.605896, Accuracy: 0.981000\n",
      "Step: 3000, Loss: 609.426270, Accuracy: 0.980900\n",
      "Step: 3050, Loss: 718.280090, Accuracy: 0.978400\n",
      "Step: 3100, Loss: 676.134644, Accuracy: 0.980200\n",
      "Step: 3150, Loss: 702.588684, Accuracy: 0.980300\n",
      "Step: 3200, Loss: 665.476196, Accuracy: 0.979600\n",
      "Step: 3250, Loss: 636.321411, Accuracy: 0.980900\n",
      "Step: 3300, Loss: 659.492676, Accuracy: 0.981500\n",
      "Step: 3350, Loss: 660.884644, Accuracy: 0.981500\n",
      "Step: 3400, Loss: 646.203125, Accuracy: 0.981300\n",
      "Step: 3450, Loss: 594.262573, Accuracy: 0.982900\n",
      "Step: 3500, Loss: 630.024841, Accuracy: 0.982600\n",
      "Step: 3550, Loss: 682.769897, Accuracy: 0.980400\n",
      "Step: 3600, Loss: 668.649170, Accuracy: 0.981900\n",
      "Step: 3650, Loss: 615.540710, Accuracy: 0.982800\n",
      "Step: 3700, Loss: 579.047302, Accuracy: 0.983900\n",
      "Step: 3750, Loss: 696.749084, Accuracy: 0.980400\n",
      "Step: 3800, Loss: 680.374390, Accuracy: 0.980800\n",
      "Step: 3850, Loss: 579.191528, Accuracy: 0.983200\n",
      "Step: 3900, Loss: 635.967102, Accuracy: 0.982400\n",
      "Step: 3950, Loss: 625.575989, Accuracy: 0.981500\n",
      "Step: 4000, Loss: 611.195435, Accuracy: 0.983200\n"
     ]
    }
   ],
   "source": [
    "cnn = SingleCNN(16, 1024)\n",
    "\n",
    "i = 0\n",
    "for _ in range(4000):\n",
    "    i += 1\n",
    "    batch_xs, batch_ts = mnist.train.next_batch(100)\n",
    "    cnn.sess.run(cnn.train_step, feed_dict={cnn.x:batch_xs, cnn.t:batch_ts})\n",
    "    if i % 50 == 0:\n",
    "        summary, loss_val, acc_val = cnn.sess.run(\n",
    "            [cnn.summary, cnn.loss, cnn.accuracy],\n",
    "            feed_dict={cnn.x:mnist.test.images, cnn.t:mnist.test.labels})\n",
    "        print ('Step: %d, Loss: %f, Accuracy: %f'\n",
    "               % (i, loss_val, acc_val))\n",
    "        cnn.writer.add_summary(summary, i)"
   ]
  }
 ],
 "metadata": {
  "kernelspec": {
   "display_name": "Python 2",
   "language": "python",
   "name": "python2"
  },
  "language_info": {
   "codemirror_mode": {
    "name": "ipython",
    "version": 2
   },
   "file_extension": ".py",
   "mimetype": "text/x-python",
   "name": "python",
   "nbconvert_exporter": "python",
   "pygments_lexer": "ipython2",
   "version": "2.7.5"
  }
 },
 "nbformat": 4,
 "nbformat_minor": 0
}
