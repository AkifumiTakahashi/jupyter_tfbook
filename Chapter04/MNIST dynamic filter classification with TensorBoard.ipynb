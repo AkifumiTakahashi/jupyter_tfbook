{
 "cells": [
  {
   "cell_type": "markdown",
   "metadata": {},
   "source": [
    "**[MDT-01]** 必要なモジュールをインポートして、乱数のシードを設定します。"
   ]
  },
  {
   "cell_type": "code",
   "execution_count": 1,
   "metadata": {
    "collapsed": true
   },
   "outputs": [],
   "source": [
    "import tensorflow as tf\n",
    "import numpy as np\n",
    "import matplotlib.pyplot as plt\n",
    "from tensorflow.examples.tutorials.mnist import input_data\n",
    "\n",
    "np.random.seed(20160703)\n",
    "tf.set_random_seed(20160703)"
   ]
  },
  {
   "cell_type": "markdown",
   "metadata": {},
   "source": [
    "**[MDT-02]** MNISTのデータセットを用意します。"
   ]
  },
  {
   "cell_type": "code",
   "execution_count": 2,
   "metadata": {
    "collapsed": false
   },
   "outputs": [
    {
     "name": "stdout",
     "output_type": "stream",
     "text": [
      "Extracting /tmp/data/train-images-idx3-ubyte.gz\n",
      "Extracting /tmp/data/train-labels-idx1-ubyte.gz\n",
      "Extracting /tmp/data/t10k-images-idx3-ubyte.gz\n",
      "Extracting /tmp/data/t10k-labels-idx1-ubyte.gz\n"
     ]
    }
   ],
   "source": [
    "mnist = input_data.read_data_sets(\"/tmp/data/\", one_hot=True)"
   ]
  },
  {
   "cell_type": "markdown",
   "metadata": {},
   "source": [
    "**[MDT-03]** 畳込みフィルターが1層のCNNを表現するクラスを定義します。"
   ]
  },
  {
   "cell_type": "code",
   "execution_count": 3,
   "metadata": {
    "collapsed": false
   },
   "outputs": [],
   "source": [
    "class SingleCNN:\n",
    "    def __init__(self, num_filters, num_units):\n",
    "        with tf.Graph().as_default():\n",
    "            self.prepare_model(num_filters, num_units)\n",
    "            self.prepare_session()\n",
    "\n",
    "    def prepare_model(self, num_filters, num_units):\n",
    "        num_units1 = 14*14*num_filters\n",
    "        num_units2 = num_units\n",
    "        \n",
    "        with tf.name_scope('input'):\n",
    "            x = tf.placeholder(tf.float32, [None, 784], name='input')\n",
    "            x_image = tf.reshape(x, [-1,28,28,1])\n",
    "\n",
    "        with tf.name_scope('convolution'):\n",
    "            W_conv = tf.Variable(\n",
    "                tf.truncated_normal([5,5,1,num_filters], stddev=0.1),\n",
    "                name='conv-filter')\n",
    "            h_conv = tf.nn.conv2d(\n",
    "                x_image, W_conv, strides=[1,1,1,1], padding='SAME',\n",
    "                name='filter-output')\n",
    "\n",
    "        with tf.name_scope('pooling'):            \n",
    "            h_pool =tf.nn.max_pool(h_conv, ksize=[1,2,2,1],\n",
    "                                   strides=[1,2,2,1], padding='SAME',\n",
    "                                   name='max-pool')\n",
    "            h_pool_flat = tf.reshape(h_pool, [-1, 14*14*num_filters],\n",
    "                                     name='pool-output')\n",
    "\n",
    "        with tf.name_scope('fully-connected'):\n",
    "            w2 = tf.Variable(tf.truncated_normal([num_units1, num_units2]))\n",
    "            b2 = tf.Variable(tf.zeros([1, num_units2]))\n",
    "            hidden2 = tf.nn.tanh(tf.matmul(h_pool_flat, w2) + b2,\n",
    "                                 name='fc-output')\n",
    "\n",
    "        with tf.name_scope('softmax'):\n",
    "            w0 = tf.Variable(tf.zeros([num_units2, 10]))\n",
    "            b0 = tf.Variable(tf.zeros([10]))\n",
    "            p = tf.nn.softmax(tf.matmul(hidden2, w0) + b0,\n",
    "                              name='softmax-output')\n",
    "            \n",
    "        with tf.name_scope('optimizer'):\n",
    "            t = tf.placeholder(tf.float32, [None, 10], name='labels')\n",
    "            loss = -tf.reduce_sum(t * tf.log(p), name='loss')\n",
    "            train_step = tf.train.AdamOptimizer().minimize(loss)\n",
    "            \n",
    "        with tf.name_scope('evaluator'):\n",
    "            correct_prediction = tf.equal(tf.argmax(p, 1), tf.argmax(t, 1))\n",
    "            accuracy = tf.reduce_mean(tf.cast(correct_prediction,\n",
    "                                              tf.float32), name='accuracy')\n",
    "            \n",
    "        tf.scalar_summary(\"loss\", loss)\n",
    "        tf.scalar_summary(\"accuracy\", accuracy)\n",
    "        tf.histogram_summary(\"convolution_filters\", W_conv)\n",
    "        \n",
    "        self.x, self.t, self.p = x, t, p\n",
    "        self.train_step = train_step\n",
    "        self.loss = loss\n",
    "        self.accuracy = accuracy\n",
    "        \n",
    "    def prepare_session(self):\n",
    "        sess = tf.InteractiveSession()\n",
    "        sess.run(tf.initialize_all_variables())\n",
    "        summary = tf.merge_all_summaries()\n",
    "        writer = tf.train.SummaryWriter(\"/tmp/mnist_df_logs\", sess.graph)\n",
    "        \n",
    "        self.sess = sess\n",
    "        self.summary = summary\n",
    "        self.writer = writer"
   ]
  },
  {
   "cell_type": "markdown",
   "metadata": {},
   "source": [
    "**[MDT-04]** TensorBoard用のデータ出力ディレクトリーを削除して初期化しておきます。"
   ]
  },
  {
   "cell_type": "code",
   "execution_count": 4,
   "metadata": {
    "collapsed": true
   },
   "outputs": [],
   "source": [
    "!rm -rf /tmp/mnist_df_logs"
   ]
  },
  {
   "cell_type": "markdown",
   "metadata": {},
   "source": [
    "**[MDT-05]** パラメーターの最適化を4000回繰り返します。テストセットに対して約98%の正解率が得られます。"
   ]
  },
  {
   "cell_type": "code",
   "execution_count": 5,
   "metadata": {
    "collapsed": false
   },
   "outputs": [
    {
     "name": "stdout",
     "output_type": "stream",
     "text": [
      "Step: 50, Loss: 3649.625000, Accuracy: 0.896800\n",
      "Step: 100, Loss: 2791.824219, Accuracy: 0.918400\n",
      "Step: 150, Loss: 2373.791748, Accuracy: 0.930600\n",
      "Step: 200, Loss: 2222.386719, Accuracy: 0.936100\n",
      "Step: 250, Loss: 2040.999756, Accuracy: 0.939200\n",
      "Step: 300, Loss: 1794.149902, Accuracy: 0.946900\n",
      "Step: 350, Loss: 1741.526611, Accuracy: 0.948700\n",
      "Step: 400, Loss: 1649.519775, Accuracy: 0.953900\n",
      "Step: 450, Loss: 1526.680176, Accuracy: 0.954000\n",
      "Step: 500, Loss: 1423.614746, Accuracy: 0.958900\n",
      "Step: 550, Loss: 1382.064209, Accuracy: 0.959100\n",
      "Step: 600, Loss: 1241.720093, Accuracy: 0.963900\n",
      "Step: 650, Loss: 1164.232178, Accuracy: 0.966000\n",
      "Step: 700, Loss: 1200.745850, Accuracy: 0.963700\n",
      "Step: 750, Loss: 1106.048096, Accuracy: 0.967400\n",
      "Step: 800, Loss: 1098.096069, Accuracy: 0.968900\n",
      "Step: 850, Loss: 1118.697754, Accuracy: 0.967700\n",
      "Step: 900, Loss: 1090.529785, Accuracy: 0.967800\n",
      "Step: 950, Loss: 994.094360, Accuracy: 0.969600\n",
      "Step: 1000, Loss: 991.579956, Accuracy: 0.971800\n",
      "Step: 1050, Loss: 946.777893, Accuracy: 0.972000\n",
      "Step: 1100, Loss: 950.922119, Accuracy: 0.973000\n",
      "Step: 1150, Loss: 892.983276, Accuracy: 0.973700\n",
      "Step: 1200, Loss: 837.865662, Accuracy: 0.973900\n",
      "Step: 1250, Loss: 835.964478, Accuracy: 0.975300\n",
      "Step: 1300, Loss: 833.344604, Accuracy: 0.976000\n",
      "Step: 1350, Loss: 841.692871, Accuracy: 0.973900\n",
      "Step: 1400, Loss: 825.457214, Accuracy: 0.975200\n",
      "Step: 1450, Loss: 806.422791, Accuracy: 0.976300\n",
      "Step: 1500, Loss: 863.117432, Accuracy: 0.973700\n",
      "Step: 1550, Loss: 807.737976, Accuracy: 0.975500\n",
      "Step: 1600, Loss: 798.203735, Accuracy: 0.977100\n",
      "Step: 1650, Loss: 750.921326, Accuracy: 0.978300\n",
      "Step: 1700, Loss: 753.601929, Accuracy: 0.977700\n",
      "Step: 1750, Loss: 734.822632, Accuracy: 0.977300\n",
      "Step: 1800, Loss: 674.492249, Accuracy: 0.980200\n",
      "Step: 1850, Loss: 757.398376, Accuracy: 0.976900\n",
      "Step: 1900, Loss: 733.165894, Accuracy: 0.977300\n",
      "Step: 1950, Loss: 728.654297, Accuracy: 0.977500\n",
      "Step: 2000, Loss: 729.253418, Accuracy: 0.976300\n",
      "Step: 2050, Loss: 720.720825, Accuracy: 0.978300\n",
      "Step: 2100, Loss: 698.240173, Accuracy: 0.978800\n",
      "Step: 2150, Loss: 693.607056, Accuracy: 0.978000\n",
      "Step: 2200, Loss: 722.878296, Accuracy: 0.977700\n",
      "Step: 2250, Loss: 697.676392, Accuracy: 0.978200\n",
      "Step: 2300, Loss: 673.316772, Accuracy: 0.980100\n",
      "Step: 2350, Loss: 633.269836, Accuracy: 0.979500\n",
      "Step: 2400, Loss: 631.684814, Accuracy: 0.981300\n",
      "Step: 2450, Loss: 677.196106, Accuracy: 0.980000\n",
      "Step: 2500, Loss: 635.606201, Accuracy: 0.980900\n",
      "Step: 2550, Loss: 647.365479, Accuracy: 0.979700\n",
      "Step: 2600, Loss: 694.548401, Accuracy: 0.977600\n",
      "Step: 2650, Loss: 641.129517, Accuracy: 0.980700\n",
      "Step: 2700, Loss: 653.503723, Accuracy: 0.979800\n",
      "Step: 2750, Loss: 672.570007, Accuracy: 0.979500\n",
      "Step: 2800, Loss: 640.733093, Accuracy: 0.979300\n",
      "Step: 2850, Loss: 623.775879, Accuracy: 0.981300\n",
      "Step: 2900, Loss: 630.480713, Accuracy: 0.981200\n",
      "Step: 2950, Loss: 654.426758, Accuracy: 0.980200\n",
      "Step: 3000, Loss: 617.083984, Accuracy: 0.981700\n",
      "Step: 3050, Loss: 667.779053, Accuracy: 0.978900\n",
      "Step: 3100, Loss: 647.065796, Accuracy: 0.980200\n",
      "Step: 3150, Loss: 631.090698, Accuracy: 0.981200\n",
      "Step: 3200, Loss: 617.161255, Accuracy: 0.981100\n",
      "Step: 3250, Loss: 590.939331, Accuracy: 0.981600\n",
      "Step: 3300, Loss: 637.125244, Accuracy: 0.981000\n",
      "Step: 3350, Loss: 621.391724, Accuracy: 0.980900\n",
      "Step: 3400, Loss: 593.855591, Accuracy: 0.981500\n",
      "Step: 3450, Loss: 612.083252, Accuracy: 0.981800\n",
      "Step: 3500, Loss: 597.555908, Accuracy: 0.981900\n",
      "Step: 3550, Loss: 597.031738, Accuracy: 0.982100\n",
      "Step: 3600, Loss: 586.783752, Accuracy: 0.982200\n",
      "Step: 3650, Loss: 571.839661, Accuracy: 0.982900\n",
      "Step: 3700, Loss: 591.735413, Accuracy: 0.982700\n",
      "Step: 3750, Loss: 595.880859, Accuracy: 0.982600\n",
      "Step: 3800, Loss: 596.297913, Accuracy: 0.982100\n",
      "Step: 3850, Loss: 603.174011, Accuracy: 0.982700\n",
      "Step: 3900, Loss: 608.877319, Accuracy: 0.982300\n",
      "Step: 3950, Loss: 576.680664, Accuracy: 0.982700\n",
      "Step: 4000, Loss: 579.415161, Accuracy: 0.983000\n"
     ]
    }
   ],
   "source": [
    "cnn = SingleCNN(16, 1024)\n",
    "\n",
    "i = 0\n",
    "for _ in range(4000):\n",
    "    i += 1\n",
    "    batch_xs, batch_ts = mnist.train.next_batch(100)\n",
    "    cnn.sess.run(cnn.train_step, feed_dict={cnn.x:batch_xs, cnn.t:batch_ts})\n",
    "    if i % 50 == 0:\n",
    "        summary, loss_val, acc_val = cnn.sess.run(\n",
    "            [cnn.summary, cnn.loss, cnn.accuracy],\n",
    "            feed_dict={cnn.x:mnist.test.images, cnn.t:mnist.test.labels})\n",
    "        print ('Step: %d, Loss: %f, Accuracy: %f'\n",
    "               % (i, loss_val, acc_val))\n",
    "        cnn.writer.add_summary(summary, i)"
   ]
  }
 ],
 "metadata": {
  "kernelspec": {
   "display_name": "Python 2",
   "language": "python",
   "name": "python2"
  },
  "language_info": {
   "codemirror_mode": {
    "name": "ipython",
    "version": 2
   },
   "file_extension": ".py",
   "mimetype": "text/x-python",
   "name": "python",
   "nbconvert_exporter": "python",
   "pygments_lexer": "ipython2",
   "version": "2.7.5"
  }
 },
 "nbformat": 4,
 "nbformat_minor": 0
}
