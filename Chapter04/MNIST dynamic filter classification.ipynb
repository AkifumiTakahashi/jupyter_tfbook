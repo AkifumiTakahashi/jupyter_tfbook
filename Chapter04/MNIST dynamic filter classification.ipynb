{
 "cells": [
  {
   "cell_type": "markdown",
   "metadata": {},
   "source": [
    "**[MDC-01]** 必要なモジュールをインポートして、乱数のシードを設定します。"
   ]
  },
  {
   "cell_type": "code",
   "execution_count": 1,
   "metadata": {
    "collapsed": true
   },
   "outputs": [],
   "source": [
    "import tensorflow as tf\n",
    "import numpy as np\n",
    "import matplotlib.pyplot as plt\n",
    "from tensorflow.examples.tutorials.mnist import input_data\n",
    "\n",
    "np.random.seed(20160703)\n",
    "tf.set_random_seed(20160703)"
   ]
  },
  {
   "cell_type": "markdown",
   "metadata": {},
   "source": [
    "**[MDC-02]** MNISTのデータセットを用意します。"
   ]
  },
  {
   "cell_type": "code",
   "execution_count": 2,
   "metadata": {
    "collapsed": false
   },
   "outputs": [
    {
     "name": "stdout",
     "output_type": "stream",
     "text": [
      "Extracting /tmp/data/train-images-idx3-ubyte.gz\n",
      "Extracting /tmp/data/train-labels-idx1-ubyte.gz\n",
      "Extracting /tmp/data/t10k-images-idx3-ubyte.gz\n",
      "Extracting /tmp/data/t10k-labels-idx1-ubyte.gz\n"
     ]
    }
   ],
   "source": [
    "mnist = input_data.read_data_sets(\"/tmp/data/\", one_hot=True)"
   ]
  },
  {
   "cell_type": "markdown",
   "metadata": {},
   "source": [
    "**[MDC-03]** フィルターに対応する Variable を用意して、入力データにフィルターとプーリング層を適用する計算式を定義します。"
   ]
  },
  {
   "cell_type": "code",
   "execution_count": 3,
   "metadata": {
    "collapsed": false
   },
   "outputs": [],
   "source": [
    "num_filters = 16\n",
    "\n",
    "x = tf.placeholder(tf.float32, [None, 784])\n",
    "x_image = tf.reshape(x, [-1,28,28,1])\n",
    "\n",
    "W_conv = tf.Variable(tf.truncated_normal([5,5,1,num_filters],\n",
    "                                         stddev=0.1))\n",
    "h_conv = tf.nn.conv2d(x_image, W_conv,\n",
    "                      strides=[1,1,1,1], padding='SAME')\n",
    "h_pool =tf.nn.max_pool(h_conv, ksize=[1,2,2,1],\n",
    "                       strides=[1,2,2,1], padding='SAME')"
   ]
  },
  {
   "cell_type": "markdown",
   "metadata": {},
   "source": [
    "**[MDC-04]** プーリング層からの出力を全結合層を経由してソフトマックス関数に入力する計算式を定義します。"
   ]
  },
  {
   "cell_type": "code",
   "execution_count": 4,
   "metadata": {
    "collapsed": false
   },
   "outputs": [],
   "source": [
    "h_pool_flat = tf.reshape(h_pool, [-1, 14*14*num_filters])\n",
    "\n",
    "num_units1 = 14*14*num_filters\n",
    "num_units2 = 1024\n",
    "\n",
    "w2 = tf.Variable(tf.truncated_normal([num_units1, num_units2]))\n",
    "b2 = tf.Variable(tf.zeros([1, num_units2]))\n",
    "hidden2 = tf.nn.tanh(tf.matmul(h_pool_flat, w2) + b2)\n",
    "\n",
    "w0 = tf.Variable(tf.zeros([num_units2, 10]))\n",
    "b0 = tf.Variable(tf.zeros([10]))\n",
    "p = tf.nn.softmax(tf.matmul(hidden2, w0) + b0)"
   ]
  },
  {
   "cell_type": "markdown",
   "metadata": {},
   "source": [
    "**[MDC-05]** 誤差関数 loss、トレーニングアルゴリズム train_step、正解率 accuracy を定義します。"
   ]
  },
  {
   "cell_type": "code",
   "execution_count": 5,
   "metadata": {
    "collapsed": false
   },
   "outputs": [],
   "source": [
    "t = tf.placeholder(tf.float32, [None, 10])\n",
    "loss = -tf.reduce_sum(t * tf.log(p))\n",
    "train_step = tf.train.AdamOptimizer().minimize(loss)\n",
    "correct_prediction = tf.equal(tf.argmax(p, 1), tf.argmax(t, 1))\n",
    "accuracy = tf.reduce_mean(tf.cast(correct_prediction, tf.float32))"
   ]
  },
  {
   "cell_type": "markdown",
   "metadata": {},
   "source": [
    "**[MDC-06]** セッションを用意して、Variable を初期化します。"
   ]
  },
  {
   "cell_type": "code",
   "execution_count": 6,
   "metadata": {
    "collapsed": false,
    "scrolled": false
   },
   "outputs": [],
   "source": [
    "sess = tf.InteractiveSession()\n",
    "sess.run(tf.initialize_all_variables())\n",
    "saver = tf.train.Saver()"
   ]
  },
  {
   "cell_type": "markdown",
   "metadata": {},
   "source": [
    "**[MDC-07]** パラメーターの最適化を4000回繰り返します。\n",
    "\n",
    "最終的に、テストセットに対して約98%の正解率が得られます。"
   ]
  },
  {
   "cell_type": "code",
   "execution_count": 7,
   "metadata": {
    "collapsed": false
   },
   "outputs": [
    {
     "name": "stdout",
     "output_type": "stream",
     "text": [
      "Step: 100, Loss: 2816.885254, Accuracy: 0.918000\n",
      "Step: 200, Loss: 2144.529297, Accuracy: 0.936400\n",
      "Step: 300, Loss: 1741.925781, Accuracy: 0.948300\n",
      "Step: 400, Loss: 1530.320068, Accuracy: 0.956100\n",
      "Step: 500, Loss: 1341.657471, Accuracy: 0.960000\n",
      "Step: 600, Loss: 1191.839844, Accuracy: 0.962700\n",
      "Step: 700, Loss: 1123.972046, Accuracy: 0.964700\n",
      "Step: 800, Loss: 1019.955322, Accuracy: 0.969200\n",
      "Step: 900, Loss: 999.117188, Accuracy: 0.969100\n",
      "Step: 1000, Loss: 925.631775, Accuracy: 0.971600\n",
      "Step: 1100, Loss: 886.200928, Accuracy: 0.971900\n",
      "Step: 1200, Loss: 744.428589, Accuracy: 0.976800\n",
      "Step: 1300, Loss: 773.417664, Accuracy: 0.976700\n",
      "Step: 1400, Loss: 767.210205, Accuracy: 0.976300\n",
      "Step: 1500, Loss: 786.917969, Accuracy: 0.975900\n",
      "Step: 1600, Loss: 774.787476, Accuracy: 0.975500\n",
      "Step: 1700, Loss: 726.879272, Accuracy: 0.977200\n",
      "Step: 1800, Loss: 653.898315, Accuracy: 0.979700\n",
      "Step: 1900, Loss: 692.964966, Accuracy: 0.977600\n",
      "Step: 2000, Loss: 667.136292, Accuracy: 0.978300\n",
      "Step: 2100, Loss: 685.101929, Accuracy: 0.978200\n",
      "Step: 2200, Loss: 676.008789, Accuracy: 0.979300\n",
      "Step: 2300, Loss: 624.323547, Accuracy: 0.980200\n",
      "Step: 2400, Loss: 600.836670, Accuracy: 0.980700\n",
      "Step: 2500, Loss: 636.724365, Accuracy: 0.979900\n",
      "Step: 2600, Loss: 603.579224, Accuracy: 0.981400\n",
      "Step: 2700, Loss: 602.835022, Accuracy: 0.980900\n",
      "Step: 2800, Loss: 608.092529, Accuracy: 0.980500\n",
      "Step: 2900, Loss: 585.419250, Accuracy: 0.981500\n",
      "Step: 3000, Loss: 601.316772, Accuracy: 0.981300\n",
      "Step: 3100, Loss: 595.442688, Accuracy: 0.982300\n",
      "Step: 3200, Loss: 591.833374, Accuracy: 0.981800\n",
      "Step: 3300, Loss: 641.837524, Accuracy: 0.980700\n",
      "Step: 3400, Loss: 599.003540, Accuracy: 0.981400\n",
      "Step: 3500, Loss: 603.190430, Accuracy: 0.981300\n",
      "Step: 3600, Loss: 584.275757, Accuracy: 0.981100\n",
      "Step: 3700, Loss: 593.108276, Accuracy: 0.981000\n",
      "Step: 3800, Loss: 602.808960, Accuracy: 0.982500\n",
      "Step: 3900, Loss: 586.946655, Accuracy: 0.982800\n",
      "Step: 4000, Loss: 576.044983, Accuracy: 0.982700\n"
     ]
    }
   ],
   "source": [
    "i = 0\n",
    "for _ in range(4000):\n",
    "    i += 1\n",
    "    batch_xs, batch_ts = mnist.train.next_batch(100)\n",
    "    sess.run(train_step, feed_dict={x: batch_xs, t: batch_ts})\n",
    "    if i % 100 == 0:\n",
    "        loss_val, acc_val = sess.run([loss, accuracy],\n",
    "            feed_dict={x:mnist.test.images, t:mnist.test.labels})\n",
    "        print ('Step: %d, Loss: %f, Accuracy: %f'\n",
    "               % (i, loss_val, acc_val))\n",
    "        saver.save(sess, 'mdc_session', global_step=i)"
   ]
  },
  {
   "cell_type": "markdown",
   "metadata": {},
   "source": [
    "**[MDC-08]** セッション情報を保存したファイルが生成されていることを確認します。"
   ]
  },
  {
   "cell_type": "code",
   "execution_count": 8,
   "metadata": {
    "collapsed": false
   },
   "outputs": [
    {
     "name": "stdout",
     "output_type": "stream",
     "text": [
      "mdc_session-3600       mdc_session-3800       mdc_session-4000\r\n",
      "mdc_session-3600.meta  mdc_session-3800.meta  mdc_session-4000.meta\r\n",
      "mdc_session-3700       mdc_session-3900\r\n",
      "mdc_session-3700.meta  mdc_session-3900.meta\r\n"
     ]
    }
   ],
   "source": [
    "!ls mdc_session*"
   ]
  }
 ],
 "metadata": {
  "kernelspec": {
   "display_name": "Python 2",
   "language": "python",
   "name": "python2"
  },
  "language_info": {
   "codemirror_mode": {
    "name": "ipython",
    "version": 2
   },
   "file_extension": ".py",
   "mimetype": "text/x-python",
   "name": "python",
   "nbconvert_exporter": "python",
   "pygments_lexer": "ipython2",
   "version": "2.7.5"
  }
 },
 "nbformat": 4,
 "nbformat_minor": 0
}
